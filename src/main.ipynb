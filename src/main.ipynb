{
 "cells": [
  {
   "cell_type": "code",
   "execution_count": 4,
   "id": "2bf46a99",
   "metadata": {},
   "outputs": [],
   "source": [
    "import open_clip\n",
    "import torch\n",
    "from PIL import Image"
   ]
  },
  {
   "cell_type": "code",
   "execution_count": 6,
   "id": "2b2aefd5",
   "metadata": {},
   "outputs": [
    {
     "name": "stderr",
     "output_type": "stream",
     "text": [
      "/tmp/ipykernel_2364789/1698346719.py:16: FutureWarning: `torch.cuda.amp.autocast(args...)` is deprecated. Please use `torch.amp.autocast('cuda', args...)` instead.\n",
      "  with torch.no_grad(), torch.cuda.amp.autocast():\n"
     ]
    },
    {
     "ename": "AssertionError",
     "evalue": "Please install transformers for generate functionality. `pip install transformers`.",
     "output_type": "error",
     "traceback": [
      "\u001b[31m---------------------------------------------------------------------------\u001b[39m",
      "\u001b[31mAssertionError\u001b[39m                            Traceback (most recent call last)",
      "\u001b[36mCell\u001b[39m\u001b[36m \u001b[39m\u001b[32mIn[6]\u001b[39m\u001b[32m, line 17\u001b[39m\n\u001b[32m     14\u001b[39m im = transform(im).unsqueeze(\u001b[32m0\u001b[39m)\n\u001b[32m     16\u001b[39m \u001b[38;5;28;01mwith\u001b[39;00m torch.no_grad(), torch.cuda.amp.autocast():\n\u001b[32m---> \u001b[39m\u001b[32m17\u001b[39m   generated = \u001b[43mmodel\u001b[49m\u001b[43m.\u001b[49m\u001b[43mgenerate\u001b[49m\u001b[43m(\u001b[49m\u001b[43mim\u001b[49m\u001b[43m)\u001b[49m\n\u001b[32m     19\u001b[39m \u001b[38;5;28mprint\u001b[39m(open_clip.decode(generated[\u001b[32m0\u001b[39m]).split(\u001b[33m\"\u001b[39m\u001b[33m<end_of_text>\u001b[39m\u001b[33m\"\u001b[39m)[\u001b[32m0\u001b[39m].replace(\u001b[33m\"\u001b[39m\u001b[33m<start_of_text>\u001b[39m\u001b[33m\"\u001b[39m, \u001b[33m\"\u001b[39m\u001b[33m\"\u001b[39m))\n",
      "\u001b[36mFile \u001b[39m\u001b[32m~/CoCa-pytorch/venv/lib/python3.12/site-packages/open_clip/coca_model.py:308\u001b[39m, in \u001b[36mCoCa.generate\u001b[39m\u001b[34m(self, image, text, seq_len, max_seq_len, temperature, generation_type, top_p, top_k, pad_token_id, eos_token_id, sot_token_id, num_beams, num_beam_groups, min_seq_len, stopping_criteria, repetition_penalty, fixed_output_length)\u001b[39m\n\u001b[32m    286\u001b[39m \u001b[38;5;28;01mdef\u001b[39;00m\u001b[38;5;250m \u001b[39m\u001b[34mgenerate\u001b[39m(\n\u001b[32m    287\u001b[39m     \u001b[38;5;28mself\u001b[39m,\n\u001b[32m    288\u001b[39m     image,\n\u001b[32m   (...)\u001b[39m\u001b[32m    306\u001b[39m     \u001b[38;5;66;03m# taking many ideas and components from HuggingFace GenerationMixin\u001b[39;00m\n\u001b[32m    307\u001b[39m     \u001b[38;5;66;03m# https://huggingface.co/docs/transformers/main/en/main_classes/text_generation\u001b[39;00m\n\u001b[32m--> \u001b[39m\u001b[32m308\u001b[39m     \u001b[38;5;28;01massert\u001b[39;00m _has_transformers, \u001b[33m\"\u001b[39m\u001b[33mPlease install transformers for generate functionality. `pip install transformers`.\u001b[39m\u001b[33m\"\u001b[39m\n\u001b[32m    309\u001b[39m     \u001b[38;5;28;01massert\u001b[39;00m seq_len > min_seq_len, \u001b[33m\"\u001b[39m\u001b[33mseq_len must be larger than min_seq_len\u001b[39m\u001b[33m\"\u001b[39m\n\u001b[32m    310\u001b[39m     device = image.device\n",
      "\u001b[31mAssertionError\u001b[39m: Please install transformers for generate functionality. `pip install transformers`."
     ]
    }
   ],
   "source": [
    "''' \n",
    "('coca_ViT-B-32', 'laion2b_s13b_b90k'),\n",
    " ('coca_ViT-B-32', 'mscoco_finetuned_laion2b_s13b_b90k'),\n",
    " ('coca_ViT-L-14', 'laion2b_s13b_b90k'),\n",
    " ('coca_ViT-L-14', 'mscoco_finetuned_laion2b_s13b_b90k'),\n",
    " '''\n",
    "\n",
    "model, _, transform = open_clip.create_model_and_transforms(\n",
    "  model_name=\"coca_ViT-L-14\",\n",
    "  pretrained=\"mscoco_finetuned_laion2b_s13b_b90k\"\n",
    ")\n",
    "\n",
    "im = Image.open(\"../data/images/0a3c01759e77a02d.jpg\").convert(\"RGB\")\n",
    "im = transform(im).unsqueeze(0)\n",
    "\n",
    "with torch.no_grad(), torch.cuda.amp.autocast():\n",
    "  generated = model.generate(im)\n",
    "\n",
    "print(open_clip.decode(generated[0]).split(\"<end_of_text>\")[0].replace(\"<start_of_text>\", \"\"))"
   ]
  },
  {
   "cell_type": "code",
   "execution_count": null,
   "id": "be4e2ce3",
   "metadata": {},
   "outputs": [],
   "source": []
  }
 ],
 "metadata": {
  "kernelspec": {
   "display_name": "venv",
   "language": "python",
   "name": "python3"
  },
  "language_info": {
   "codemirror_mode": {
    "name": "ipython",
    "version": 3
   },
   "file_extension": ".py",
   "mimetype": "text/x-python",
   "name": "python",
   "nbconvert_exporter": "python",
   "pygments_lexer": "ipython3",
   "version": "3.12.3"
  }
 },
 "nbformat": 4,
 "nbformat_minor": 5
}
